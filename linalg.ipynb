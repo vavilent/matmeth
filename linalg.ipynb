{
 "cells": [
  {
   "cell_type": "code",
   "execution_count": null,
   "metadata": {},
   "outputs": [],
   "source": [
    "from math import pi, cos, sin\n",
    "from scipy import optimize, linalg\n",
    "import sympy\n",
    "import numpy as np\n",
    "\n",
    "np.set_printoptions(precision=3, suppress=True)"
   ]
  },
  {
   "cell_type": "markdown",
   "metadata": {},
   "source": [
    "# Задание 1"
   ]
  },
  {
   "cell_type": "code",
   "execution_count": null,
   "metadata": {},
   "outputs": [],
   "source": [
    "class Cylinder:\n",
    "    def __init__(self, r, h):\n",
    "        self.r = r\n",
    "        self.h = h\n",
    "        \n",
    "    def volume(self):\n",
    "        return pi * (self.r**2) * self.h\n",
    "    \n",
    "c = Cylinder(1, 42)\n",
    "c.volume()"
   ]
  },
  {
   "cell_type": "markdown",
   "metadata": {},
   "source": [
    "# Задание 2"
   ]
  },
  {
   "cell_type": "code",
   "execution_count": null,
   "metadata": {},
   "outputs": [],
   "source": [
    "def f(x):\n",
    "    return cos(x) / (1 + x ** 2)\n",
    "\n",
    "period = [0.1, 2.4]"
   ]
  },
  {
   "cell_type": "markdown",
   "metadata": {},
   "source": [
    "#### Метод деления отрезка"
   ]
  },
  {
   "cell_type": "code",
   "execution_count": null,
   "metadata": {},
   "outputs": [],
   "source": [
    "%%timeit\n",
    "optimize.bisect(f, *period)"
   ]
  },
  {
   "cell_type": "markdown",
   "metadata": {},
   "source": [
    "#### Метод секущей"
   ]
  },
  {
   "cell_type": "code",
   "execution_count": null,
   "metadata": {},
   "outputs": [],
   "source": [
    "%%timeit\n",
    "optimize.newton(f, (period[1] - period[0]) / 2)"
   ]
  },
  {
   "cell_type": "markdown",
   "metadata": {},
   "source": [
    "#### Метод Ньютона"
   ]
  },
  {
   "cell_type": "code",
   "execution_count": null,
   "metadata": {},
   "outputs": [],
   "source": [
    "sympy.init_printing(use_unicode=True)\n",
    "x = sympy.symbols('x')\n",
    "sympy.diff(sympy.cos(x) / (1 + x **2), x)"
   ]
  },
  {
   "cell_type": "code",
   "execution_count": null,
   "metadata": {},
   "outputs": [],
   "source": [
    "def df(x):\n",
    "    return -2 * x * cos(x) / (x**2 + 1)**2 - sin(x) / (x**2 + 1)"
   ]
  },
  {
   "cell_type": "code",
   "execution_count": null,
   "metadata": {},
   "outputs": [],
   "source": [
    "%%timeit\n",
    "optimize.newton(f, (period[1] - period[0]) / 2, fprime=df)"
   ]
  },
  {
   "cell_type": "markdown",
   "metadata": {},
   "source": [
    "#### Метод Брента"
   ]
  },
  {
   "cell_type": "code",
   "execution_count": null,
   "metadata": {},
   "outputs": [],
   "source": [
    "%%timeit\n",
    "optimize.brentq(f, *period)"
   ]
  },
  {
   "cell_type": "markdown",
   "metadata": {},
   "source": [
    "# Задание 3"
   ]
  },
  {
   "cell_type": "code",
   "execution_count": null,
   "metadata": {},
   "outputs": [],
   "source": [
    "N = 100\n",
    "A = np.zeros((N + 1, N + 1))\n",
    "i, j = np.indices(A.shape)\n",
    "A[np.logical_and(j <= i, j > i - 3)] = 1\n",
    "B = np.arange(N + 1)\n",
    "linalg.solve(A, B)"
   ]
  },
  {
   "cell_type": "markdown",
   "metadata": {},
   "source": [
    "# Задание 4"
   ]
  },
  {
   "cell_type": "code",
   "execution_count": null,
   "metadata": {},
   "outputs": [],
   "source": [
    "N = 50\n",
    "A = np.random.random((N, N))\n",
    "\n",
    "def b(t):\n",
    "    k = np.arange(N)\n",
    "    return k / (1 + k * t)"
   ]
  },
  {
   "cell_type": "markdown",
   "metadata": {},
   "source": [
    "#### linalg.solve"
   ]
  },
  {
   "cell_type": "code",
   "execution_count": null,
   "metadata": {},
   "outputs": [],
   "source": [
    "def dx_solve(t0, t1):\n",
    "    return linalg.solve(A, b(t1)) - linalg.solve(A, b(t0))\n",
    "\n",
    "dx_solve_v = np.vectorize(lambda t: dx_solve(t, t + 0.1), signature='()->(i)')"
   ]
  },
  {
   "cell_type": "code",
   "execution_count": null,
   "metadata": {},
   "outputs": [],
   "source": [
    "%%timeit\n",
    "dx_solve_v(np.arange(0, 10, 0.1))"
   ]
  },
  {
   "cell_type": "markdown",
   "metadata": {},
   "source": [
    "#### linalg.lu_solve"
   ]
  },
  {
   "cell_type": "code",
   "execution_count": null,
   "metadata": {},
   "outputs": [],
   "source": [
    "def dx_lu_solve(t0, t1):\n",
    "    lu = linalg.lu_factor(A, overwrite_a=False)\n",
    "    return linalg.lu_solve(lu, b(t1)) - linalg.lu_solve(lu, b(t0))\n",
    "\n",
    "dx_lu_solve_v = np.vectorize(lambda t: dx_lu_solve(t, t + 0.1), signature='()->(i)')"
   ]
  },
  {
   "cell_type": "code",
   "execution_count": null,
   "metadata": {},
   "outputs": [],
   "source": [
    "%%timeit\n",
    "dx_lu_solve_v(np.arange(0, 10, 0.1))"
   ]
  },
  {
   "cell_type": "markdown",
   "metadata": {},
   "source": [
    "#### linalg.lu_solve"
   ]
  },
  {
   "cell_type": "code",
   "execution_count": null,
   "metadata": {},
   "outputs": [],
   "source": [
    "linalg.det(A)"
   ]
  },
  {
   "cell_type": "code",
   "execution_count": null,
   "metadata": {},
   "outputs": [],
   "source": [
    "Ai = linalg.inv(A)\n",
    "\n",
    "def dx_inv(t0, t1):\n",
    "    return np.dot(Ai, b(t1)) - np.dot(Ai, b(t0))\n",
    "\n",
    "dx_inv_v = np.vectorize(lambda t: dx_inv(t, t + 0.1), signature='()->(i)')"
   ]
  },
  {
   "cell_type": "code",
   "execution_count": null,
   "metadata": {},
   "outputs": [],
   "source": [
    "%%timeit\n",
    "dx_inv_v(np.arange(0, 10, 0.1))"
   ]
  },
  {
   "cell_type": "code",
   "execution_count": null,
   "metadata": {},
   "outputs": [],
   "source": []
  }
 ],
 "metadata": {
  "kernelspec": {
   "display_name": "Python 3",
   "language": "python",
   "name": "python3"
  },
  "language_info": {
   "codemirror_mode": {
    "name": "ipython",
    "version": 3
   },
   "file_extension": ".py",
   "mimetype": "text/x-python",
   "name": "python",
   "nbconvert_exporter": "python",
   "pygments_lexer": "ipython3",
   "version": "3.5.3"
  }
 },
 "nbformat": 4,
 "nbformat_minor": 2
}
